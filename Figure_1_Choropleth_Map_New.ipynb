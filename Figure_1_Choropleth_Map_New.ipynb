{
  "cells": [
    {
      "cell_type": "markdown",
      "metadata": {
        "id": "view-in-github",
        "colab_type": "text"
      },
      "source": [
        "<a href=\"https://colab.research.google.com/github/al2501/fooddesert/blob/main/Figure_1_Choropleth_Map_New.ipynb\" target=\"_parent\"><img src=\"https://colab.research.google.com/assets/colab-badge.svg\" alt=\"Open In Colab\"/></a>"
      ]
    },
    {
      "cell_type": "markdown",
      "source": [
        "###Installing our packages"
      ],
      "metadata": {
        "id": "xzSXQm0Y4OeF"
      }
    },
    {
      "cell_type": "code",
      "execution_count": null,
      "metadata": {
        "colab": {
          "base_uri": "https://localhost:8080/",
          "height": 1000
        },
        "id": "JMnC-z8Xly9N",
        "outputId": "93c935b5-f858-48cc-94cd-a5ed7dc1e239"
      },
      "outputs": [
        {
          "output_type": "stream",
          "name": "stdout",
          "text": [
            "Collecting pysal\n",
            "  Downloading pysal-2.5.0.tar.gz (21 kB)\n",
            "Collecting libpysal>=4.5.1\n",
            "  Downloading libpysal-4.5.1-py3-none-any.whl (2.4 MB)\n",
            "\u001b[K     |████████████████████████████████| 2.4 MB 6.8 MB/s \n",
            "\u001b[?25hCollecting access>=1.1.3\n",
            "  Downloading access-1.1.3-py3-none-any.whl (21 kB)\n",
            "Collecting esda>=2.4.1\n",
            "  Downloading esda-2.4.1.tar.gz (95 kB)\n",
            "\u001b[K     |████████████████████████████████| 95 kB 3.0 MB/s \n",
            "\u001b[?25hCollecting giddy>=2.3.3\n",
            "  Downloading giddy-2.3.3-py3-none-any.whl (60 kB)\n",
            "\u001b[K     |████████████████████████████████| 60 kB 5.9 MB/s \n",
            "\u001b[?25hCollecting inequality>=1.0.0\n",
            "  Downloading inequality-1.0.0.tar.gz (11 kB)\n",
            "Collecting pointpats>=2.2.0\n",
            "  Downloading pointpats-2.2.0.tar.gz (55 kB)\n",
            "\u001b[K     |████████████████████████████████| 55 kB 3.0 MB/s \n",
            "\u001b[?25hCollecting segregation>=2.0.0\n",
            "  Downloading segregation-2.1.0-py3-none-any.whl (164 kB)\n",
            "\u001b[K     |████████████████████████████████| 164 kB 63.1 MB/s \n",
            "\u001b[?25hCollecting spaghetti>=1.6.2\n",
            "  Downloading spaghetti-1.6.5-py3-none-any.whl (46 kB)\n",
            "\u001b[K     |████████████████████████████████| 46 kB 2.7 MB/s \n",
            "\u001b[?25hCollecting mgwr>=2.1.2\n",
            "  Downloading mgwr-2.1.2.tar.gz (41 kB)\n",
            "\u001b[K     |████████████████████████████████| 41 kB 348 kB/s \n",
            "\u001b[?25hCollecting spglm>=1.0.8\n",
            "  Downloading spglm-1.0.8.tar.gz (37 kB)\n",
            "Collecting spint>=1.0.7\n",
            "  Downloading spint-1.0.7.tar.gz (28 kB)\n",
            "Collecting spreg>=1.2.4\n",
            "  Downloading spreg-1.2.4-py3-none-any.whl (209 kB)\n",
            "\u001b[K     |████████████████████████████████| 209 kB 68.8 MB/s \n",
            "\u001b[?25hCollecting spvcm>=0.3.0\n",
            "  Downloading spvcm-0.3.0.tar.gz (5.7 MB)\n",
            "\u001b[K     |████████████████████████████████| 5.7 MB 18.7 MB/s \n",
            "\u001b[?25hCollecting tobler>=0.8.2\n",
            "  Downloading tobler-0.8.2-py3-none-any.whl (30 kB)\n",
            "Collecting mapclassify>=2.4.3\n",
            "  Downloading mapclassify-2.4.3-py3-none-any.whl (38 kB)\n",
            "Collecting splot>=1.1.4\n",
            "  Downloading splot-1.1.4.tar.gz (34 kB)\n",
            "Collecting spopt>=0.1.2\n",
            "  Downloading spopt-0.2.1-py3-none-any.whl (81 kB)\n",
            "\u001b[K     |████████████████████████████████| 81 kB 6.5 MB/s \n",
            "\u001b[?25hCollecting urllib3>=1.26\n",
            "  Downloading urllib3-1.26.8-py2.py3-none-any.whl (138 kB)\n",
            "\u001b[K     |████████████████████████████████| 138 kB 63.4 MB/s \n",
            "\u001b[?25hCollecting python-dateutil<=2.8.0\n",
            "  Downloading python_dateutil-2.8.0-py2.py3-none-any.whl (226 kB)\n",
            "\u001b[K     |████████████████████████████████| 226 kB 59.5 MB/s \n",
            "\u001b[?25hRequirement already satisfied: pytest in /usr/local/lib/python3.7/dist-packages (from pysal) (3.6.4)\n",
            "Collecting pytest-cov\n",
            "  Downloading pytest_cov-3.0.0-py3-none-any.whl (20 kB)\n",
            "Requirement already satisfied: coverage in /usr/local/lib/python3.7/dist-packages (from pysal) (3.7.1)\n",
            "Requirement already satisfied: numpy>=1.3 in /usr/local/lib/python3.7/dist-packages (from access>=1.1.3->pysal) (1.19.5)\n",
            "Requirement already satisfied: pandas>=0.23.4 in /usr/local/lib/python3.7/dist-packages (from access>=1.1.3->pysal) (1.1.5)\n",
            "Requirement already satisfied: scipy>=0.11 in /usr/local/lib/python3.7/dist-packages (from esda>=2.4.1->pysal) (1.4.1)\n",
            "Requirement already satisfied: scikit-learn in /usr/local/lib/python3.7/dist-packages (from esda>=2.4.1->pysal) (1.0.2)\n",
            "Collecting quantecon>=0.4.7\n",
            "  Downloading quantecon-0.5.2-py3-none-any.whl (269 kB)\n",
            "\u001b[K     |████████████████████████████████| 269 kB 43.2 MB/s \n",
            "\u001b[?25hRequirement already satisfied: beautifulsoup4 in /usr/local/lib/python3.7/dist-packages (from libpysal>=4.5.1->pysal) (4.6.3)\n",
            "Requirement already satisfied: jinja2 in /usr/local/lib/python3.7/dist-packages (from libpysal>=4.5.1->pysal) (2.11.3)\n",
            "Requirement already satisfied: requests in /usr/local/lib/python3.7/dist-packages (from libpysal>=4.5.1->pysal) (2.23.0)\n",
            "Requirement already satisfied: networkx in /usr/local/lib/python3.7/dist-packages (from mapclassify>=2.4.3->pysal) (2.6.3)\n",
            "Requirement already satisfied: pytz>=2017.2 in /usr/local/lib/python3.7/dist-packages (from pandas>=0.23.4->access>=1.1.3->pysal) (2018.9)\n",
            "Requirement already satisfied: matplotlib in /usr/local/lib/python3.7/dist-packages (from pointpats>=2.2.0->pysal) (3.2.2)\n",
            "Collecting opencv-contrib-python>=4.2.0\n",
            "  Downloading opencv_contrib_python-4.5.5.62-cp36-abi3-manylinux_2_17_x86_64.manylinux2014_x86_64.whl (66.6 MB)\n",
            "\u001b[K     |████████████████████████████████| 66.6 MB 98 kB/s \n",
            "\u001b[?25hRequirement already satisfied: six>=1.5 in /usr/local/lib/python3.7/dist-packages (from python-dateutil<=2.8.0->pysal) (1.15.0)\n",
            "Requirement already satisfied: numba>=0.38 in /usr/local/lib/python3.7/dist-packages (from quantecon>=0.4.7->giddy>=2.3.3->pysal) (0.51.2)\n",
            "Requirement already satisfied: sympy in /usr/local/lib/python3.7/dist-packages (from quantecon>=0.4.7->giddy>=2.3.3->pysal) (1.7.1)\n",
            "Requirement already satisfied: setuptools in /usr/local/lib/python3.7/dist-packages (from numba>=0.38->quantecon>=0.4.7->giddy>=2.3.3->pysal) (57.4.0)\n",
            "Requirement already satisfied: llvmlite<0.35,>=0.34.0.dev0 in /usr/local/lib/python3.7/dist-packages (from numba>=0.38->quantecon>=0.4.7->giddy>=2.3.3->pysal) (0.34.0)\n",
            "Collecting pygeos\n",
            "  Downloading pygeos-0.12.0-cp37-cp37m-manylinux_2_17_x86_64.manylinux2014_x86_64.whl (2.1 MB)\n",
            "\u001b[K     |████████████████████████████████| 2.1 MB 41.7 MB/s \n",
            "\u001b[?25hRequirement already satisfied: joblib in /usr/local/lib/python3.7/dist-packages (from segregation>=2.0.0->pysal) (1.1.0)\n",
            "Requirement already satisfied: tqdm in /usr/local/lib/python3.7/dist-packages (from segregation>=2.0.0->pysal) (4.62.3)\n",
            "Requirement already satisfied: pip in /usr/local/lib/python3.7/dist-packages (from segregation>=2.0.0->pysal) (21.1.3)\n",
            "Collecting deprecation\n",
            "  Downloading deprecation-2.1.0-py2.py3-none-any.whl (11 kB)\n",
            "Collecting rvlib>=0.0.5\n",
            "  Downloading rvlib-0.0.6.tar.gz (183 kB)\n",
            "\u001b[K     |████████████████████████████████| 183 kB 48.3 MB/s \n",
            "\u001b[?25hRequirement already satisfied: seaborn in /usr/local/lib/python3.7/dist-packages (from segregation>=2.0.0->pysal) (0.11.2)\n",
            "Collecting quilt3\n",
            "  Downloading quilt3-3.6.0-py3-none-any.whl (117 kB)\n",
            "\u001b[K     |████████████████████████████████| 117 kB 48.2 MB/s \n",
            "\u001b[?25hCollecting geopandas>=0.9\n",
            "  Downloading geopandas-0.10.2-py2.py3-none-any.whl (1.0 MB)\n",
            "\u001b[K     |████████████████████████████████| 1.0 MB 61.5 MB/s \n",
            "\u001b[?25hCollecting pyproj>=2.2.0\n",
            "  Downloading pyproj-3.2.1-cp37-cp37m-manylinux2010_x86_64.whl (6.3 MB)\n",
            "\u001b[K     |████████████████████████████████| 6.3 MB 39.0 MB/s \n",
            "\u001b[?25hCollecting fiona>=1.8\n",
            "  Downloading Fiona-1.8.20-cp37-cp37m-manylinux1_x86_64.whl (15.4 MB)\n",
            "\u001b[K     |████████████████████████████████| 15.4 MB 38.4 MB/s \n",
            "\u001b[?25hRequirement already satisfied: shapely>=1.6 in /usr/local/lib/python3.7/dist-packages (from geopandas>=0.9->segregation>=2.0.0->pysal) (1.8.0)\n",
            "Collecting click-plugins>=1.0\n",
            "  Downloading click_plugins-1.1.1-py2.py3-none-any.whl (7.5 kB)\n",
            "Requirement already satisfied: click>=4.0 in /usr/local/lib/python3.7/dist-packages (from fiona>=1.8->geopandas>=0.9->segregation>=2.0.0->pysal) (7.1.2)\n",
            "Requirement already satisfied: certifi in /usr/local/lib/python3.7/dist-packages (from fiona>=1.8->geopandas>=0.9->segregation>=2.0.0->pysal) (2021.10.8)\n",
            "Collecting munch\n",
            "  Downloading munch-2.5.0-py2.py3-none-any.whl (10 kB)\n",
            "Requirement already satisfied: attrs>=17 in /usr/local/lib/python3.7/dist-packages (from fiona>=1.8->geopandas>=0.9->segregation>=2.0.0->pysal) (21.4.0)\n",
            "Collecting cligj>=0.5\n",
            "  Downloading cligj-0.7.2-py3-none-any.whl (7.1 kB)\n",
            "Requirement already satisfied: cffi>=1.0.0 in /usr/local/lib/python3.7/dist-packages (from rvlib>=0.0.5->segregation>=2.0.0->pysal) (1.15.0)\n",
            "Requirement already satisfied: PyYAML in /usr/local/lib/python3.7/dist-packages (from rvlib>=0.0.5->segregation>=2.0.0->pysal) (3.13)\n",
            "Requirement already satisfied: pycparser in /usr/local/lib/python3.7/dist-packages (from cffi>=1.0.0->rvlib>=0.0.5->segregation>=2.0.0->pysal) (2.21)\n",
            "Requirement already satisfied: threadpoolctl>=2.0.0 in /usr/local/lib/python3.7/dist-packages (from scikit-learn->esda>=2.4.1->pysal) (3.0.0)\n",
            "Collecting rtree\n",
            "  Downloading Rtree-0.9.7-cp37-cp37m-manylinux2010_x86_64.whl (994 kB)\n",
            "\u001b[K     |████████████████████████████████| 994 kB 60.8 MB/s \n",
            "\u001b[?25hRequirement already satisfied: descartes in /usr/local/lib/python3.7/dist-packages (from splot>=1.1.4->pysal) (1.1.0)\n",
            "Collecting pulp\n",
            "  Downloading PuLP-2.6.0-py3-none-any.whl (14.2 MB)\n",
            "\u001b[K     |████████████████████████████████| 14.2 MB 29.8 MB/s \n",
            "\u001b[?25hRequirement already satisfied: statsmodels in /usr/local/lib/python3.7/dist-packages (from tobler>=0.8.2->pysal) (0.10.2)\n",
            "Collecting rasterio\n",
            "  Downloading rasterio-1.2.10-cp37-cp37m-manylinux1_x86_64.whl (19.3 MB)\n",
            "\u001b[K     |████████████████████████████████| 19.3 MB 419 kB/s \n",
            "\u001b[?25hCollecting rasterstats\n",
            "  Downloading rasterstats-0.16.0-py3-none-any.whl (16 kB)\n",
            "Requirement already satisfied: packaging in /usr/local/lib/python3.7/dist-packages (from deprecation->segregation>=2.0.0->pysal) (21.3)\n",
            "Requirement already satisfied: MarkupSafe>=0.23 in /usr/local/lib/python3.7/dist-packages (from jinja2->libpysal>=4.5.1->pysal) (2.0.1)\n",
            "Requirement already satisfied: cycler>=0.10 in /usr/local/lib/python3.7/dist-packages (from matplotlib->pointpats>=2.2.0->pysal) (0.11.0)\n",
            "Requirement already satisfied: pyparsing!=2.0.4,!=2.1.2,!=2.1.6,>=2.0.1 in /usr/local/lib/python3.7/dist-packages (from matplotlib->pointpats>=2.2.0->pysal) (3.0.6)\n",
            "Requirement already satisfied: kiwisolver>=1.0.1 in /usr/local/lib/python3.7/dist-packages (from matplotlib->pointpats>=2.2.0->pysal) (1.3.2)\n",
            "Requirement already satisfied: atomicwrites>=1.0 in /usr/local/lib/python3.7/dist-packages (from pytest->pysal) (1.4.0)\n",
            "Requirement already satisfied: py>=1.5.0 in /usr/local/lib/python3.7/dist-packages (from pytest->pysal) (1.11.0)\n",
            "Requirement already satisfied: more-itertools>=4.0.0 in /usr/local/lib/python3.7/dist-packages (from pytest->pysal) (8.12.0)\n",
            "Requirement already satisfied: pluggy<0.8,>=0.5 in /usr/local/lib/python3.7/dist-packages (from pytest->pysal) (0.7.1)\n",
            "Collecting coverage[toml]>=5.2.1\n",
            "  Downloading coverage-6.2-cp37-cp37m-manylinux_2_5_x86_64.manylinux1_x86_64.manylinux_2_12_x86_64.manylinux2010_x86_64.whl (213 kB)\n",
            "\u001b[K     |████████████████████████████████| 213 kB 74.8 MB/s \n",
            "\u001b[?25hCollecting pytest\n",
            "  Downloading pytest-6.2.5-py3-none-any.whl (280 kB)\n",
            "\u001b[K     |████████████████████████████████| 280 kB 45.7 MB/s \n",
            "\u001b[?25hRequirement already satisfied: tomli in /usr/local/lib/python3.7/dist-packages (from coverage[toml]>=5.2.1->pytest-cov->pysal) (2.0.0)\n",
            "Requirement already satisfied: importlib-metadata>=0.12 in /usr/local/lib/python3.7/dist-packages (from pytest->pysal) (4.10.0)\n",
            "Requirement already satisfied: toml in /usr/local/lib/python3.7/dist-packages (from pytest->pysal) (0.10.2)\n",
            "  Downloading pytest-6.2.4-py3-none-any.whl (280 kB)\n",
            "\u001b[K     |████████████████████████████████| 280 kB 61.2 MB/s \n",
            "\u001b[?25h  Downloading pytest-6.2.3-py3-none-any.whl (280 kB)\n",
            "\u001b[K     |████████████████████████████████| 280 kB 62.2 MB/s \n",
            "\u001b[?25h  Downloading pytest-6.2.2-py3-none-any.whl (280 kB)\n",
            "\u001b[K     |████████████████████████████████| 280 kB 60.7 MB/s \n",
            "\u001b[?25h  Downloading pytest-6.2.1-py3-none-any.whl (279 kB)\n",
            "\u001b[K     |████████████████████████████████| 279 kB 41.3 MB/s \n",
            "\u001b[?25h  Downloading pytest-6.2.0-py3-none-any.whl (279 kB)\n",
            "\u001b[K     |████████████████████████████████| 279 kB 60.8 MB/s \n",
            "\u001b[?25h  Downloading pytest-6.1.2-py3-none-any.whl (272 kB)\n",
            "\u001b[K     |████████████████████████████████| 272 kB 49.3 MB/s \n",
            "\u001b[?25h  Downloading pytest-6.1.1-py3-none-any.whl (272 kB)\n",
            "\u001b[K     |████████████████████████████████| 272 kB 60.9 MB/s \n",
            "\u001b[?25h  Downloading pytest-6.1.0-py3-none-any.whl (272 kB)\n",
            "\u001b[K     |████████████████████████████████| 272 kB 60.8 MB/s \n",
            "\u001b[?25h  Downloading pytest-6.0.2-py3-none-any.whl (270 kB)\n",
            "\u001b[K     |████████████████████████████████| 270 kB 48.7 MB/s \n",
            "\u001b[?25h  Downloading pytest-6.0.1-py3-none-any.whl (270 kB)\n",
            "\u001b[K     |████████████████████████████████| 270 kB 59.4 MB/s \n",
            "\u001b[?25h  Downloading pytest-6.0.0-py3-none-any.whl (270 kB)\n",
            "\u001b[K     |████████████████████████████████| 270 kB 49.6 MB/s \n",
            "\u001b[?25h  Downloading pytest-5.4.3-py3-none-any.whl (248 kB)\n",
            "\u001b[K     |████████████████████████████████| 248 kB 57.1 MB/s \n",
            "\u001b[?25hRequirement already satisfied: wcwidth in /usr/local/lib/python3.7/dist-packages (from pytest->pysal) (0.2.5)\n",
            "  Downloading pytest-5.4.2-py3-none-any.whl (247 kB)\n",
            "\u001b[K     |████████████████████████████████| 247 kB 60.2 MB/s \n",
            "\u001b[?25h  Downloading pytest-5.4.1-py3-none-any.whl (246 kB)\n",
            "\u001b[K     |████████████████████████████████| 246 kB 34.9 MB/s \n",
            "\u001b[?25h  Downloading pytest-5.4.0-py3-none-any.whl (247 kB)\n",
            "\u001b[K     |████████████████████████████████| 247 kB 75.2 MB/s \n",
            "\u001b[?25h  Downloading pytest-5.3.5-py3-none-any.whl (235 kB)\n",
            "\u001b[K     |████████████████████████████████| 235 kB 75.1 MB/s \n",
            "\u001b[?25h  Downloading pytest-5.3.4-py3-none-any.whl (235 kB)\n",
            "\u001b[K     |████████████████████████████████| 235 kB 76.9 MB/s \n",
            "\u001b[?25h  Downloading pytest-5.3.3-py3-none-any.whl (235 kB)\n",
            "\u001b[K     |████████████████████████████████| 235 kB 67.7 MB/s \n",
            "\u001b[?25h  Downloading pytest-5.3.2-py3-none-any.whl (234 kB)\n",
            "\u001b[K     |████████████████████████████████| 234 kB 69.5 MB/s \n",
            "\u001b[?25h  Downloading pytest-5.3.1-py3-none-any.whl (233 kB)\n",
            "\u001b[K     |████████████████████████████████| 233 kB 78.1 MB/s \n",
            "\u001b[?25h  Downloading pytest-5.3.0-py3-none-any.whl (233 kB)\n",
            "\u001b[K     |████████████████████████████████| 233 kB 55.3 MB/s \n",
            "\u001b[?25h  Downloading pytest-5.2.4-py3-none-any.whl (227 kB)\n",
            "\u001b[K     |████████████████████████████████| 227 kB 67.0 MB/s \n",
            "\u001b[?25h  Downloading pytest-5.2.3-py3-none-any.whl (227 kB)\n",
            "\u001b[K     |████████████████████████████████| 227 kB 79.5 MB/s \n",
            "\u001b[?25h  Downloading pytest-5.2.2-py3-none-any.whl (227 kB)\n",
            "\u001b[K     |████████████████████████████████| 227 kB 71.9 MB/s \n",
            "\u001b[?25h  Downloading pytest-5.2.1-py3-none-any.whl (226 kB)\n",
            "\u001b[K     |████████████████████████████████| 226 kB 73.5 MB/s \n",
            "\u001b[?25h  Downloading pytest-5.2.0-py3-none-any.whl (226 kB)\n",
            "\u001b[K     |████████████████████████████████| 226 kB 73.2 MB/s \n",
            "\u001b[?25h  Downloading pytest-5.1.3-py3-none-any.whl (224 kB)\n",
            "\u001b[K     |████████████████████████████████| 224 kB 41.9 MB/s \n",
            "\u001b[?25h  Downloading pytest-5.1.2-py3-none-any.whl (224 kB)\n",
            "\u001b[K     |████████████████████████████████| 224 kB 62.1 MB/s \n",
            "\u001b[?25h  Downloading pytest-5.1.1-py3-none-any.whl (223 kB)\n",
            "\u001b[K     |████████████████████████████████| 223 kB 61.0 MB/s \n",
            "\u001b[?25h  Downloading pytest-5.1.0-py3-none-any.whl (223 kB)\n",
            "\u001b[K     |████████████████████████████████| 223 kB 62.0 MB/s \n",
            "\u001b[?25h  Downloading pytest-5.0.1-py3-none-any.whl (221 kB)\n",
            "\u001b[K     |████████████████████████████████| 221 kB 62.8 MB/s \n",
            "\u001b[?25h  Downloading pytest-5.0.0-py3-none-any.whl (221 kB)\n",
            "\u001b[K     |████████████████████████████████| 221 kB 61.9 MB/s \n",
            "\u001b[?25h  Downloading pytest-4.6.11-py2.py3-none-any.whl (231 kB)\n",
            "\u001b[K     |████████████████████████████████| 231 kB 42.7 MB/s \n",
            "\u001b[?25h  Downloading pytest-4.6.10-py2.py3-none-any.whl (231 kB)\n",
            "\u001b[K     |████████████████████████████████| 231 kB 51.1 MB/s \n",
            "\u001b[?25h  Downloading pytest-4.6.9-py2.py3-none-any.whl (231 kB)\n",
            "\u001b[K     |████████████████████████████████| 231 kB 46.9 MB/s \n",
            "\u001b[?25h  Downloading pytest-4.6.8-py2.py3-none-any.whl (230 kB)\n",
            "\u001b[K     |████████████████████████████████| 230 kB 63.8 MB/s \n",
            "\u001b[?25h  Downloading pytest-4.6.7-py2.py3-none-any.whl (230 kB)\n",
            "\u001b[K     |████████████████████████████████| 230 kB 54.4 MB/s \n",
            "\u001b[?25h  Downloading pytest-4.6.6-py2.py3-none-any.whl (230 kB)\n",
            "\u001b[K     |████████████████████████████████| 230 kB 63.9 MB/s \n",
            "\u001b[?25h  Downloading pytest-4.6.5-py2.py3-none-any.whl (230 kB)\n",
            "\u001b[K     |████████████████████████████████| 230 kB 37.5 MB/s \n",
            "\u001b[?25h  Downloading pytest-4.6.4-py2.py3-none-any.whl (229 kB)\n",
            "\u001b[K     |████████████████████████████████| 229 kB 53.9 MB/s \n",
            "\u001b[?25h  Downloading pytest-4.6.3-py2.py3-none-any.whl (229 kB)\n",
            "\u001b[K     |████████████████████████████████| 229 kB 60.3 MB/s \n",
            "\u001b[?25h  Downloading pytest-4.6.2-py2.py3-none-any.whl (229 kB)\n",
            "\u001b[K     |████████████████████████████████| 229 kB 52.8 MB/s \n",
            "\u001b[?25h  Downloading pytest-4.6.1-py2.py3-none-any.whl (229 kB)\n",
            "\u001b[K     |████████████████████████████████| 229 kB 60.0 MB/s \n",
            "\u001b[?25h  Downloading pytest-4.6.0-py2.py3-none-any.whl (229 kB)\n",
            "\u001b[K     |████████████████████████████████| 229 kB 60.0 MB/s \n",
            "\u001b[?25hINFO: pip is looking at multiple versions of coverage to determine which version is compatible with other requirements. This could take a while.\n",
            "INFO: pip is looking at multiple versions of coverage[toml] to determine which version is compatible with other requirements. This could take a while.\n",
            "Collecting coverage[toml]>=5.2.1\n",
            "  Downloading coverage-6.1.2-cp37-cp37m-manylinux_2_5_x86_64.manylinux1_x86_64.manylinux_2_12_x86_64.manylinux2010_x86_64.whl (213 kB)\n",
            "\u001b[K     |████████████████████████████████| 213 kB 61.6 MB/s \n",
            "\u001b[?25h  Downloading coverage-6.1.1-cp37-cp37m-manylinux_2_5_x86_64.manylinux1_x86_64.manylinux_2_12_x86_64.manylinux2010_x86_64.whl (213 kB)\n",
            "\u001b[K     |████████████████████████████████| 213 kB 59.9 MB/s \n",
            "\u001b[?25h  Downloading coverage-6.1-cp37-cp37m-manylinux_2_5_x86_64.manylinux1_x86_64.manylinux_2_12_x86_64.manylinux2010_x86_64.whl (213 kB)\n",
            "\u001b[K     |████████████████████████████████| 213 kB 62.7 MB/s \n",
            "\u001b[?25h  Downloading coverage-6.0.2-cp37-cp37m-manylinux_2_5_x86_64.manylinux1_x86_64.manylinux_2_12_x86_64.manylinux2010_x86_64.whl (253 kB)\n",
            "\u001b[K     |████████████████████████████████| 253 kB 46.7 MB/s \n",
            "\u001b[?25h  Downloading coverage-6.0.1-cp37-cp37m-manylinux_2_5_x86_64.manylinux1_x86_64.manylinux_2_12_x86_64.manylinux2010_x86_64.whl (252 kB)\n",
            "\u001b[K     |████████████████████████████████| 252 kB 50.3 MB/s \n",
            "\u001b[?25h  Downloading coverage-6.0-cp37-cp37m-manylinux_2_5_x86_64.manylinux1_x86_64.manylinux_2_12_x86_64.manylinux2010_x86_64.whl (252 kB)\n",
            "\u001b[K     |████████████████████████████████| 252 kB 43.1 MB/s \n",
            "\u001b[?25h  Downloading coverage-5.5-cp37-cp37m-manylinux2010_x86_64.whl (242 kB)\n",
            "\u001b[K     |████████████████████████████████| 242 kB 60.4 MB/s \n",
            "\u001b[?25hINFO: pip is looking at multiple versions of coverage to determine which version is compatible with other requirements. This could take a while.\n",
            "INFO: pip is looking at multiple versions of coverage[toml] to determine which version is compatible with other requirements. This could take a while.\n",
            "  Downloading coverage-5.4-cp37-cp37m-manylinux2010_x86_64.whl (242 kB)\n",
            "\u001b[K     |████████████████████████████████| 242 kB 58.9 MB/s \n",
            "\u001b[?25h  Downloading coverage-5.3.1-cp37-cp37m-manylinux2010_x86_64.whl (242 kB)\n",
            "\u001b[K     |████████████████████████████████| 242 kB 74.0 MB/s \n",
            "\u001b[?25h  Downloading coverage-5.3-cp37-cp37m-manylinux1_x86_64.whl (229 kB)\n",
            "\u001b[K     |████████████████████████████████| 229 kB 67.7 MB/s \n",
            "\u001b[?25h  Downloading coverage-5.2.1-cp37-cp37m-manylinux1_x86_64.whl (229 kB)\n",
            "\u001b[K     |████████████████████████████████| 229 kB 61.3 MB/s \n",
            "\u001b[?25hINFO: pip is looking at multiple versions of pytest-cov to determine which version is compatible with other requirements. This could take a while.\n",
            "Collecting pytest-cov\n",
            "  Downloading pytest_cov-2.12.1-py2.py3-none-any.whl (20 kB)\n",
            "INFO: This is taking longer than usual. You might need to provide the dependency resolver with stricter constraints to reduce runtime. If you want to abort this run, you can press Ctrl + C to do so. To improve how pip performs, tell us what happened here: https://pip.pypa.io/surveys/backtracking\n",
            "  Downloading pytest_cov-2.12.0-py2.py3-none-any.whl (20 kB)\n",
            "INFO: This is taking longer than usual. You might need to provide the dependency resolver with stricter constraints to reduce runtime. If you want to abort this run, you can press Ctrl + C to do so. To improve how pip performs, tell us what happened here: https://pip.pypa.io/surveys/backtracking\n",
            "  Downloading pytest_cov-2.11.1-py2.py3-none-any.whl (20 kB)\n",
            "  Downloading pytest_cov-2.11.0-py2.py3-none-any.whl (20 kB)\n",
            "  Downloading pytest_cov-2.10.1-py2.py3-none-any.whl (19 kB)\n",
            "Collecting coverage\n",
            "  Downloading coverage-5.2-cp37-cp37m-manylinux1_x86_64.whl (229 kB)\n",
            "\u001b[K     |████████████████████████████████| 229 kB 61.1 MB/s \n",
            "\u001b[?25h  Downloading coverage-5.1-cp37-cp37m-manylinux1_x86_64.whl (227 kB)\n",
            "\u001b[K     |████████████████████████████████| 227 kB 62.5 MB/s \n",
            "\u001b[?25h  Downloading coverage-5.0.4-cp37-cp37m-manylinux1_x86_64.whl (227 kB)\n",
            "\u001b[K     |████████████████████████████████| 227 kB 59.3 MB/s \n",
            "\u001b[?25h  Downloading coverage-5.0.3-cp37-cp37m-manylinux1_x86_64.whl (227 kB)\n",
            "\u001b[K     |████████████████████████████████| 227 kB 57.8 MB/s \n",
            "\u001b[?25h  Downloading coverage-5.0.2-cp37-cp37m-manylinux1_x86_64.whl (226 kB)\n",
            "\u001b[K     |████████████████████████████████| 226 kB 59.7 MB/s \n",
            "\u001b[?25h  Downloading coverage-5.0.1-cp37-cp37m-manylinux1_x86_64.whl (226 kB)\n",
            "\u001b[K     |████████████████████████████████| 226 kB 50.0 MB/s \n",
            "\u001b[?25h  Downloading coverage-5.0-cp37-cp37m-manylinux1_x86_64.whl (226 kB)\n",
            "\u001b[K     |████████████████████████████████| 226 kB 53.7 MB/s \n",
            "\u001b[?25h  Downloading coverage-4.5.4-cp37-cp37m-manylinux1_x86_64.whl (205 kB)\n",
            "\u001b[K     |████████████████████████████████| 205 kB 54.1 MB/s \n",
            "\u001b[?25h  Downloading coverage-4.5.3-cp37-cp37m-manylinux1_x86_64.whl (204 kB)\n",
            "\u001b[K     |████████████████████████████████| 204 kB 60.9 MB/s \n",
            "\u001b[?25h  Downloading coverage-4.5.2-cp37-cp37m-manylinux1_x86_64.whl (205 kB)\n",
            "\u001b[K     |████████████████████████████████| 205 kB 63.5 MB/s \n",
            "\u001b[?25h  Downloading coverage-4.5.1-cp37-cp37m-manylinux1_x86_64.whl (202 kB)\n",
            "\u001b[K     |████████████████████████████████| 202 kB 74.1 MB/s \n",
            "\u001b[?25h  Downloading coverage-4.5.tar.gz (378 kB)\n",
            "\u001b[K     |████████████████████████████████| 378 kB 38.4 MB/s \n",
            "\u001b[?25h  Downloading coverage-4.4.2.tar.gz (374 kB)\n",
            "\u001b[K     |████████████████████████████████| 374 kB 63.4 MB/s \n",
            "\u001b[?25h  Downloading coverage-4.4.1.tar.gz (369 kB)\n",
            "\u001b[K     |████████████████████████████████| 369 kB 66.1 MB/s \n",
            "\u001b[?25h  Downloading coverage-4.4.tar.gz (369 kB)\n",
            "\u001b[K     |████████████████████████████████| 369 kB 66.6 MB/s \n",
            "\u001b[?25hCollecting pytest-cov\n",
            "  Downloading pytest_cov-2.10.0-py2.py3-none-any.whl (19 kB)\n",
            "  Downloading pytest_cov-2.9.0-py2.py3-none-any.whl (19 kB)\n",
            "Collecting jsonlines==1.2.0\n",
            "  Downloading jsonlines-1.2.0-py2.py3-none-any.whl (7.6 kB)\n",
            "Collecting dnspython>=1.16.0\n",
            "  Downloading dnspython-2.2.0-py3-none-any.whl (266 kB)\n",
            "\u001b[K     |████████████████████████████████| 266 kB 58.4 MB/s \n",
            "\u001b[?25hCollecting requests-futures==1.0.0\n",
            "  Downloading requests_futures-1.0.0-py2.py3-none-any.whl (7.4 kB)\n",
            "Collecting flask-cors\n",
            "  Downloading Flask_Cors-3.0.10-py2.py3-none-any.whl (14 kB)\n",
            "Collecting flask-json\n",
            "  Downloading Flask_JSON-0.3.4-py3-none-any.whl (9.0 kB)\n",
            "Collecting PyYAML\n",
            "  Downloading PyYAML-6.0-cp37-cp37m-manylinux_2_5_x86_64.manylinux1_x86_64.manylinux_2_12_x86_64.manylinux2010_x86_64.whl (596 kB)\n",
            "\u001b[K     |████████████████████████████████| 596 kB 59.8 MB/s \n",
            "\u001b[?25hCollecting tenacity>=5.1.1\n",
            "  Downloading tenacity-8.0.1-py3-none-any.whl (24 kB)\n",
            "Requirement already satisfied: appdirs>=1.4.0 in /usr/local/lib/python3.7/dist-packages (from quilt3->segregation>=2.0.0->pysal) (1.4.4)\n",
            "Requirement already satisfied: flask in /usr/local/lib/python3.7/dist-packages (from quilt3->segregation>=2.0.0->pysal) (1.1.4)\n",
            "Collecting boto3>=1.10.0\n",
            "  Downloading boto3-1.20.37-py3-none-any.whl (131 kB)\n",
            "\u001b[K     |████████████████████████████████| 131 kB 59.8 MB/s \n",
            "\u001b[?25hCollecting jsonschema==3.*\n",
            "  Downloading jsonschema-3.2.0-py2.py3-none-any.whl (56 kB)\n",
            "\u001b[K     |████████████████████████████████| 56 kB 3.5 MB/s \n",
            "\u001b[?25hCollecting aws-requests-auth>=0.4.2\n",
            "  Downloading aws_requests_auth-0.4.3-py2.py3-none-any.whl (6.8 kB)\n",
            "Requirement already satisfied: pyrsistent>=0.14.0 in /usr/local/lib/python3.7/dist-packages (from jsonschema==3.*->quilt3->segregation>=2.0.0->pysal) (0.18.0)\n",
            "Collecting botocore<1.24.0,>=1.23.37\n",
            "  Downloading botocore-1.23.37-py3-none-any.whl (8.5 MB)\n",
            "\u001b[K     |████████████████████████████████| 8.5 MB 43.4 MB/s \n",
            "\u001b[?25hCollecting s3transfer<0.6.0,>=0.5.0\n",
            "  Downloading s3transfer-0.5.0-py3-none-any.whl (79 kB)\n",
            "\u001b[K     |████████████████████████████████| 79 kB 5.9 MB/s \n",
            "\u001b[?25hCollecting jmespath<1.0.0,>=0.7.1\n",
            "  Downloading jmespath-0.10.0-py2.py3-none-any.whl (24 kB)\n",
            "Requirement already satisfied: idna<3,>=2.5 in /usr/local/lib/python3.7/dist-packages (from requests->libpysal>=4.5.1->pysal) (2.10)\n",
            "Requirement already satisfied: chardet<4,>=3.0.2 in /usr/local/lib/python3.7/dist-packages (from requests->libpysal>=4.5.1->pysal) (3.0.4)\n",
            "Collecting requests\n",
            "  Downloading requests-2.27.1-py2.py3-none-any.whl (63 kB)\n",
            "\u001b[K     |████████████████████████████████| 63 kB 1.5 MB/s \n",
            "\u001b[?25hRequirement already satisfied: charset-normalizer~=2.0.0 in /usr/local/lib/python3.7/dist-packages (from requests->libpysal>=4.5.1->pysal) (2.0.10)\n",
            "Requirement already satisfied: itsdangerous<2.0,>=0.24 in /usr/local/lib/python3.7/dist-packages (from flask->quilt3->segregation>=2.0.0->pysal) (1.1.0)\n",
            "Requirement already satisfied: Werkzeug<2.0,>=0.15 in /usr/local/lib/python3.7/dist-packages (from flask->quilt3->segregation>=2.0.0->pysal) (1.0.1)\n",
            "Requirement already satisfied: typing-extensions>=3.6.4 in /usr/local/lib/python3.7/dist-packages (from importlib-metadata>=0.12->pytest->pysal) (3.10.0.2)\n",
            "Requirement already satisfied: zipp>=0.5 in /usr/local/lib/python3.7/dist-packages (from importlib-metadata>=0.12->pytest->pysal) (3.7.0)\n",
            "Collecting snuggs>=1.4.1\n",
            "  Downloading snuggs-1.4.7-py3-none-any.whl (5.4 kB)\n",
            "Collecting affine\n",
            "  Downloading affine-2.3.0-py2.py3-none-any.whl (15 kB)\n",
            "Collecting simplejson\n",
            "  Downloading simplejson-3.17.6-cp37-cp37m-manylinux_2_5_x86_64.manylinux1_x86_64.manylinux_2_12_x86_64.manylinux2010_x86_64.whl (130 kB)\n",
            "\u001b[K     |████████████████████████████████| 130 kB 65.3 MB/s \n",
            "\u001b[?25hRequirement already satisfied: patsy>=0.4.0 in /usr/local/lib/python3.7/dist-packages (from statsmodels->tobler>=0.8.2->pysal) (0.5.2)\n",
            "Requirement already satisfied: mpmath>=0.19 in /usr/local/lib/python3.7/dist-packages (from sympy->quantecon>=0.4.7->giddy>=2.3.3->pysal) (1.2.1)\n",
            "Building wheels for collected packages: pysal, esda, inequality, mgwr, pointpats, rvlib, spglm, spint, splot, spvcm\n",
            "  Building wheel for pysal (setup.py) ... \u001b[?25l\u001b[?25hdone\n",
            "  Created wheel for pysal: filename=pysal-2.5.0-py3-none-any.whl size=18980 sha256=225ccf2e0c79767f1ecb19a56519c255ff0373d1898abe47439fbd4fe1a03a59\n",
            "  Stored in directory: /root/.cache/pip/wheels/7d/1b/e5/4f66f7e0cc999e7a4f4ee53701e184db9001ffab37acbcf7c8\n",
            "  Building wheel for esda (setup.py) ... \u001b[?25l\u001b[?25hdone\n",
            "  Created wheel for esda: filename=esda-2.4.1-py3-none-any.whl size=117429 sha256=b299dde0483db5ca5f947e20a45f4f5db0209c4af7b2bf97920380c30e7ca59a\n",
            "  Stored in directory: /root/.cache/pip/wheels/ed/67/c5/4558a178be4c410f341c31f71b5aba9c761a40c9d17dbdfddd\n",
            "  Building wheel for inequality (setup.py) ... \u001b[?25l\u001b[?25hdone\n",
            "  Created wheel for inequality: filename=inequality-1.0.0-py3-none-any.whl size=11800 sha256=86eea610b20f594c5fee51ba2b1fbe281c55015b2c90fef2de14ea62893d03a5\n",
            "  Stored in directory: /root/.cache/pip/wheels/a8/81/7a/af8b9e8ea0b034ac1bdd9d68f3a8ceac179eb5418cdb83c851\n",
            "  Building wheel for mgwr (setup.py) ... \u001b[?25l\u001b[?25hdone\n",
            "  Created wheel for mgwr: filename=mgwr-2.1.2-py3-none-any.whl size=46386 sha256=3fcab7493d589cbd5e5e82e66d51aaa7c3fbb842c5f4a85786a78662784ee2b2\n",
            "  Stored in directory: /root/.cache/pip/wheels/e8/55/57/c1bf993ab0ab4b9885ac1fdf7f9f960397355cf889b77a3e4b\n",
            "  Building wheel for pointpats (setup.py) ... \u001b[?25l\u001b[?25hdone\n",
            "  Created wheel for pointpats: filename=pointpats-2.2.0-py3-none-any.whl size=60835 sha256=fa95f168c242708b65941818fd71a51ec676b13ba4ac6f61f92c2344e5162b4b\n",
            "  Stored in directory: /root/.cache/pip/wheels/41/5f/91/08cc68af630fafdc6bed36128abf8e716e062256a8495fdb2d\n",
            "  Building wheel for rvlib (setup.py) ... \u001b[?25l\u001b[?25hdone\n",
            "  Created wheel for rvlib: filename=rvlib-0.0.6-cp37-cp37m-linux_x86_64.whl size=352191 sha256=df09177a0cafca1b1160db5b29dd0fdcacd7bdaa47f9940712edeec63a679281\n",
            "  Stored in directory: /root/.cache/pip/wheels/8e/fe/cb/66b78310be88014dfbe1a21391c873a9fe49dca403f7d9f454\n",
            "  Building wheel for spglm (setup.py) ... \u001b[?25l\u001b[?25hdone\n",
            "  Created wheel for spglm: filename=spglm-1.0.8-py3-none-any.whl size=38806 sha256=d375c6d0bbad521e0ea82ecbf01f631ea1ea56e3cb18be9428c7897ac54a3638\n",
            "  Stored in directory: /root/.cache/pip/wheels/29/79/e9/453e3b0d858bed16e097c6e6bbd75e2b966bfcfb21b12790d0\n",
            "  Building wheel for spint (setup.py) ... \u001b[?25l\u001b[?25hdone\n",
            "  Created wheel for spint: filename=spint-1.0.7-py3-none-any.whl size=31383 sha256=1034ac9d0982e2d840f25de666bd0147af5419c3b6291baf3b51385b365ca564\n",
            "  Stored in directory: /root/.cache/pip/wheels/dd/ac/5d/25d69231f3bffa2cb47ce29bb7eac9df9246aa9ba286a03a2d\n",
            "  Building wheel for splot (setup.py) ... \u001b[?25l\u001b[?25hdone\n",
            "  Created wheel for splot: filename=splot-1.1.4-py3-none-any.whl size=38515 sha256=f69b942939854815cb04daddc9ff84a4e0efffadb2855e8e8d6e09409d491f31\n",
            "  Stored in directory: /root/.cache/pip/wheels/03/f4/93/bc9aeaf0326139f985fc2642a78de1b24ae42d43f7dfb8316d\n",
            "  Building wheel for spvcm (setup.py) ... \u001b[?25l\u001b[?25hdone\n",
            "  Created wheel for spvcm: filename=spvcm-0.3.0-py3-none-any.whl size=5777202 sha256=07dd759f91b820cc63ca28bb56cfcef65f66dff95f147b1a3e8cee69d15501fc\n",
            "  Stored in directory: /root/.cache/pip/wheels/a4/85/1a/d890ef4d2eaca2788e45925fa531bb58a2138734065abdfe08\n",
            "Successfully built pysal esda inequality mgwr pointpats rvlib spglm spint splot spvcm\n",
            "Installing collected packages: urllib3, python-dateutil, jmespath, requests, botocore, snuggs, s3transfer, munch, libpysal, cligj, click-plugins, affine, tenacity, spreg, simplejson, rtree, requests-futures, rasterio, quantecon, PyYAML, pyproj, mapclassify, jsonschema, jsonlines, flask-json, flask-cors, fiona, esda, dnspython, boto3, aws-requests-auth, spglm, spaghetti, rvlib, rasterstats, quilt3, pygeos, pulp, opencv-contrib-python, giddy, geopandas, deprecation, coverage, tobler, spvcm, spopt, splot, spint, segregation, pytest-cov, pointpats, mgwr, inequality, access, pysal\n",
            "  Attempting uninstall: urllib3\n",
            "    Found existing installation: urllib3 1.24.3\n",
            "    Uninstalling urllib3-1.24.3:\n",
            "      Successfully uninstalled urllib3-1.24.3\n",
            "  Attempting uninstall: python-dateutil\n",
            "    Found existing installation: python-dateutil 2.8.2\n",
            "    Uninstalling python-dateutil-2.8.2:\n",
            "      Successfully uninstalled python-dateutil-2.8.2\n",
            "  Attempting uninstall: requests\n",
            "    Found existing installation: requests 2.23.0\n",
            "    Uninstalling requests-2.23.0:\n",
            "      Successfully uninstalled requests-2.23.0\n",
            "  Attempting uninstall: PyYAML\n",
            "    Found existing installation: PyYAML 3.13\n",
            "    Uninstalling PyYAML-3.13:\n",
            "      Successfully uninstalled PyYAML-3.13\n",
            "  Attempting uninstall: jsonschema\n",
            "    Found existing installation: jsonschema 4.3.3\n",
            "    Uninstalling jsonschema-4.3.3:\n",
            "      Successfully uninstalled jsonschema-4.3.3\n",
            "  Attempting uninstall: opencv-contrib-python\n",
            "    Found existing installation: opencv-contrib-python 4.1.2.30\n",
            "    Uninstalling opencv-contrib-python-4.1.2.30:\n",
            "      Successfully uninstalled opencv-contrib-python-4.1.2.30\n",
            "  Attempting uninstall: coverage\n",
            "    Found existing installation: coverage 3.7.1\n",
            "    Uninstalling coverage-3.7.1:\n",
            "      Successfully uninstalled coverage-3.7.1\n",
            "\u001b[31mERROR: pip's dependency resolver does not currently take into account all the packages that are installed. This behaviour is the source of the following dependency conflicts.\n",
            "nbclient 0.5.9 requires jupyter-client>=6.1.5, but you have jupyter-client 5.3.5 which is incompatible.\n",
            "google-colab 1.0.0 requires requests~=2.23.0, but you have requests 2.27.1 which is incompatible.\n",
            "datascience 0.10.6 requires coverage==3.7.1, but you have coverage 6.2 which is incompatible.\n",
            "datascience 0.10.6 requires folium==0.2.1, but you have folium 0.8.3 which is incompatible.\n",
            "coveralls 0.5 requires coverage<3.999,>=3.6, but you have coverage 6.2 which is incompatible.\n",
            "albumentations 0.1.12 requires imgaug<0.2.7,>=0.2.5, but you have imgaug 0.2.9 which is incompatible.\u001b[0m\n",
            "Successfully installed PyYAML-6.0 access-1.1.3 affine-2.3.0 aws-requests-auth-0.4.3 boto3-1.20.37 botocore-1.23.37 click-plugins-1.1.1 cligj-0.7.2 coverage-6.2 deprecation-2.1.0 dnspython-2.2.0 esda-2.4.1 fiona-1.8.20 flask-cors-3.0.10 flask-json-0.3.4 geopandas-0.10.2 giddy-2.3.3 inequality-1.0.0 jmespath-0.10.0 jsonlines-1.2.0 jsonschema-3.2.0 libpysal-4.5.1 mapclassify-2.4.3 mgwr-2.1.2 munch-2.5.0 opencv-contrib-python-4.5.5.62 pointpats-2.2.0 pulp-2.6.0 pygeos-0.12.0 pyproj-3.2.1 pysal-2.5.0 pytest-cov-2.9.0 python-dateutil-2.8.0 quantecon-0.5.2 quilt3-3.6.0 rasterio-1.2.10 rasterstats-0.16.0 requests-2.27.1 requests-futures-1.0.0 rtree-0.9.7 rvlib-0.0.6 s3transfer-0.5.0 segregation-2.1.0 simplejson-3.17.6 snuggs-1.4.7 spaghetti-1.6.5 spglm-1.0.8 spint-1.0.7 splot-1.1.4 spopt-0.2.1 spreg-1.2.4 spvcm-0.3.0 tenacity-8.0.1 tobler-0.8.2 urllib3-1.26.8\n"
          ]
        },
        {
          "output_type": "display_data",
          "data": {
            "application/vnd.colab-display-data+json": {
              "pip_warning": {
                "packages": [
                  "dateutil"
                ]
              }
            }
          },
          "metadata": {}
        },
        {
          "output_type": "stream",
          "name": "stdout",
          "text": [
            "Requirement already satisfied: geopandas in /usr/local/lib/python3.7/dist-packages (0.10.2)\n",
            "Requirement already satisfied: shapely>=1.6 in /usr/local/lib/python3.7/dist-packages (from geopandas) (1.8.0)\n",
            "Requirement already satisfied: fiona>=1.8 in /usr/local/lib/python3.7/dist-packages (from geopandas) (1.8.20)\n",
            "Requirement already satisfied: pandas>=0.25.0 in /usr/local/lib/python3.7/dist-packages (from geopandas) (1.1.5)\n",
            "Requirement already satisfied: pyproj>=2.2.0 in /usr/local/lib/python3.7/dist-packages (from geopandas) (3.2.1)\n",
            "Requirement already satisfied: six>=1.7 in /usr/local/lib/python3.7/dist-packages (from fiona>=1.8->geopandas) (1.15.0)\n",
            "Requirement already satisfied: certifi in /usr/local/lib/python3.7/dist-packages (from fiona>=1.8->geopandas) (2021.10.8)\n",
            "Requirement already satisfied: setuptools in /usr/local/lib/python3.7/dist-packages (from fiona>=1.8->geopandas) (57.4.0)\n",
            "Requirement already satisfied: cligj>=0.5 in /usr/local/lib/python3.7/dist-packages (from fiona>=1.8->geopandas) (0.7.2)\n",
            "Requirement already satisfied: munch in /usr/local/lib/python3.7/dist-packages (from fiona>=1.8->geopandas) (2.5.0)\n",
            "Requirement already satisfied: attrs>=17 in /usr/local/lib/python3.7/dist-packages (from fiona>=1.8->geopandas) (21.4.0)\n",
            "Requirement already satisfied: click>=4.0 in /usr/local/lib/python3.7/dist-packages (from fiona>=1.8->geopandas) (7.1.2)\n",
            "Requirement already satisfied: click-plugins>=1.0 in /usr/local/lib/python3.7/dist-packages (from fiona>=1.8->geopandas) (1.1.1)\n",
            "Requirement already satisfied: pytz>=2017.2 in /usr/local/lib/python3.7/dist-packages (from pandas>=0.25.0->geopandas) (2018.9)\n",
            "Requirement already satisfied: python-dateutil>=2.7.3 in /usr/local/lib/python3.7/dist-packages (from pandas>=0.25.0->geopandas) (2.8.0)\n",
            "Requirement already satisfied: numpy>=1.15.4 in /usr/local/lib/python3.7/dist-packages (from pandas>=0.25.0->geopandas) (1.19.5)\n"
          ]
        }
      ],
      "source": [
        "#Install newest branch\n",
        "!pip install pysal\n",
        "\n",
        "#Install the geopandas module\n",
        "!pip install geopandas\n"
      ]
    },
    {
      "cell_type": "markdown",
      "metadata": {
        "id": "biJmuuA-ly9Z"
      },
      "source": [
        "## Setup our enviroment"
      ]
    },
    {
      "cell_type": "code",
      "execution_count": null,
      "metadata": {
        "colab": {
          "base_uri": "https://localhost:8080/"
        },
        "id": "1MHHkCYNly9a",
        "outputId": "ca9f4178-ac93-4386-9057-e3876aace5cc"
      },
      "outputs": [
        {
          "output_type": "stream",
          "name": "stdout",
          "text": [
            "Requirement already satisfied: descartes in /usr/local/lib/python3.7/dist-packages (1.1.0)\n",
            "Requirement already satisfied: matplotlib in /usr/local/lib/python3.7/dist-packages (from descartes) (3.2.2)\n",
            "Requirement already satisfied: python-dateutil>=2.1 in /usr/local/lib/python3.7/dist-packages (from matplotlib->descartes) (2.8.0)\n",
            "Requirement already satisfied: cycler>=0.10 in /usr/local/lib/python3.7/dist-packages (from matplotlib->descartes) (0.11.0)\n",
            "Requirement already satisfied: numpy>=1.11 in /usr/local/lib/python3.7/dist-packages (from matplotlib->descartes) (1.19.5)\n",
            "Requirement already satisfied: pyparsing!=2.0.4,!=2.1.2,!=2.1.6,>=2.0.1 in /usr/local/lib/python3.7/dist-packages (from matplotlib->descartes) (3.0.6)\n",
            "Requirement already satisfied: kiwisolver>=1.0.1 in /usr/local/lib/python3.7/dist-packages (from matplotlib->descartes) (1.3.2)\n",
            "Requirement already satisfied: six>=1.5 in /usr/local/lib/python3.7/dist-packages (from python-dateutil>=2.1->matplotlib->descartes) (1.15.0)\n",
            "Requirement already satisfied: mapclassify in /usr/local/lib/python3.7/dist-packages (2.4.3)\n",
            "Requirement already satisfied: scipy>=1.0 in /usr/local/lib/python3.7/dist-packages (from mapclassify) (1.4.1)\n",
            "Requirement already satisfied: networkx in /usr/local/lib/python3.7/dist-packages (from mapclassify) (2.6.3)\n",
            "Requirement already satisfied: numpy>=1.3 in /usr/local/lib/python3.7/dist-packages (from mapclassify) (1.19.5)\n",
            "Requirement already satisfied: pandas>=1.0 in /usr/local/lib/python3.7/dist-packages (from mapclassify) (1.1.5)\n",
            "Requirement already satisfied: scikit-learn in /usr/local/lib/python3.7/dist-packages (from mapclassify) (1.0.2)\n",
            "Requirement already satisfied: pytz>=2017.2 in /usr/local/lib/python3.7/dist-packages (from pandas>=1.0->mapclassify) (2018.9)\n",
            "Requirement already satisfied: python-dateutil>=2.7.3 in /usr/local/lib/python3.7/dist-packages (from pandas>=1.0->mapclassify) (2.8.0)\n",
            "Requirement already satisfied: six>=1.5 in /usr/local/lib/python3.7/dist-packages (from python-dateutil>=2.7.3->pandas>=1.0->mapclassify) (1.15.0)\n",
            "Requirement already satisfied: threadpoolctl>=2.0.0 in /usr/local/lib/python3.7/dist-packages (from scikit-learn->mapclassify) (3.0.0)\n",
            "Requirement already satisfied: joblib>=0.11 in /usr/local/lib/python3.7/dist-packages (from scikit-learn->mapclassify) (1.1.0)\n"
          ]
        }
      ],
      "source": [
        "!pip install descartes\n",
        "!pip install mapclassify"
      ]
    },
    {
      "cell_type": "code",
      "execution_count": null,
      "metadata": {
        "colab": {
          "base_uri": "https://localhost:8080/"
        },
        "id": "OQx5Qj6Xly9f",
        "outputId": "ddfa43c1-166d-47e1-b150-2f6d4335535a"
      },
      "outputs": [
        {
          "output_type": "stream",
          "name": "stderr",
          "text": [
            "/usr/local/lib/python3.7/dist-packages/geopandas/_compat.py:115: UserWarning: The Shapely GEOS version (3.9.1-CAPI-1.14.2) is incompatible with the GEOS version PyGEOS was compiled with (3.10.1-CAPI-1.16.0). Conversions between both will be slow.\n",
            "  shapely_geos_version, geos_capi_version_string\n"
          ]
        }
      ],
      "source": [
        "from pysal import *\n",
        "import geopandas as gp\n",
        "import pandas as pd\n",
        "import matplotlib.pyplot as plt\n",
        "import matplotlib\n",
        "import pylab\n",
        "import descartes\n",
        "import mapclassify\n",
        "\n",
        "%matplotlib inline\n",
        "\n",
        "plt.style.use('ggplot')\n",
        "pylab.rcParams['figure.figsize'] = (20., 16.)"
      ]
    },
    {
      "cell_type": "markdown",
      "metadata": {
        "id": "jHs8PJ5jXGcV"
      },
      "source": [
        "## Importing and cleaning our first dataset: Local Authority Districts 2020 Boundaries. \n",
        "The shapefile used for this section was found at geoportal: https://geoportal.statistics.gov.uk/datasets/local-authority-districts-december-2020-uk-bfc/explore . "
      ]
    },
    {
      "cell_type": "code",
      "execution_count": null,
      "metadata": {
        "id": "TKJ3I65_aVhJ"
      },
      "outputs": [],
      "source": [
        "#we used a shared google drive file so everybody can have access to the same data and try the code\n",
        "\n",
        "from google.colab import drive\n",
        "drive.mount('/content/drive')"
      ]
    },
    {
      "cell_type": "code",
      "execution_count": null,
      "metadata": {
        "id": "52QUWWi0ly9m"
      },
      "outputs": [],
      "source": [
        "# importing and visualisating our shapefile for the first time\n",
        "\n",
        "data_path = \"/content/drive/MyDrive/UCL BASc/Year 2/BASC0005/QM data/third map geofood/Local_Authority_Districts_(December_2020)_UK_BFC.shp\"\n",
        "\n",
        "df1 = gp.read_file(data_path)\n",
        "\n",
        "df1.head()"
      ]
    },
    {
      "cell_type": "code",
      "execution_count": null,
      "metadata": {
        "id": "T8eueU7nly9v"
      },
      "outputs": [],
      "source": [
        "df1['geometry'].head()"
      ]
    },
    {
      "cell_type": "code",
      "execution_count": null,
      "metadata": {
        "id": "JK8UUZ0AQf60"
      },
      "outputs": [],
      "source": [
        "df1.tail()"
      ]
    },
    {
      "cell_type": "code",
      "execution_count": null,
      "metadata": {
        "id": "9oxIg3fPP-7t"
      },
      "outputs": [],
      "source": [
        "#cleaning the dataset and removing unnecessary columns\n",
        "clean = df1[['LAD20CD','LAD20NM','geometry']]\n",
        "UK_LTLAs=clean.replace(',', '', regex=True)"
      ]
    },
    {
      "cell_type": "code",
      "execution_count": null,
      "metadata": {
        "id": "57n5Za8Cly9s"
      },
      "outputs": [],
      "source": [
        "#info for projection\n",
        "UK_LTLAs.crs"
      ]
    },
    {
      "cell_type": "code",
      "execution_count": null,
      "metadata": {
        "id": "VIM6cuD8Ot1K"
      },
      "outputs": [],
      "source": [
        "UK_LTLAs.crs.name\n",
        "UK_LTLAs.crs.datum"
      ]
    },
    {
      "cell_type": "code",
      "execution_count": null,
      "metadata": {
        "id": "eZPmvv7mM5Gp"
      },
      "outputs": [],
      "source": [
        "type(UK_LTLAs.crs)"
      ]
    },
    {
      "cell_type": "code",
      "execution_count": null,
      "metadata": {
        "id": "Wl-EEqaEly90"
      },
      "outputs": [],
      "source": [
        "#projection using the correct epsg\n",
        "UK_LTLAs.crs = 'epsg:27700'\n",
        "target_crs = {'datum':'OSGB36', 'no_defs':True, 'proj':'merc'}\n",
        "projected_UK_LTLAs = UK_LTLAs.to_crs(crs=target_crs)"
      ]
    },
    {
      "cell_type": "code",
      "execution_count": null,
      "metadata": {
        "id": "5MH_XCh3ly93"
      },
      "outputs": [],
      "source": [
        "projected_UK_LTLAs['geometry'].head()"
      ]
    },
    {
      "cell_type": "code",
      "execution_count": null,
      "metadata": {
        "id": "m58-5MHjly96"
      },
      "outputs": [],
      "source": [
        "#plotting our boundaries \n",
        "figure1 = projected_UK_LTLAs.plot()"
      ]
    },
    {
      "cell_type": "markdown",
      "metadata": {
        "id": "5SKORhG7YNLg"
      },
      "source": [
        "## Importing our second dataset: Food deserts dataset. \n",
        "Our dataset was found at https://data.cdrc.ac.uk/dataset/e-food-desert-index/resource/efdi-england-and-wales\n"
      ]
    },
    {
      "cell_type": "code",
      "execution_count": null,
      "metadata": {
        "id": "QthgebZjly-I"
      },
      "outputs": [],
      "source": [
        "#importing dataset 2: food\n",
        "data_path = \"/content/drive/MyDrive/UCL BASc/Year 2/BASC0005/QM data/third map geofood/efdi_england.csv\"\n",
        "\n",
        "food = pd.read_csv(data_path, encoding = 'latin1')\n",
        "food.head()"
      ]
    },
    {
      "cell_type": "code",
      "execution_count": null,
      "metadata": {
        "id": "oGj-JTuQly-N"
      },
      "outputs": [],
      "source": [
        "#checking if there is no error\n",
        "food.replace(',', '', regex=True, inplace=True)\n",
        "food['Score'] = food['Score'].replace('-', 'NaN', regex=True).astype('float')\n",
        "food['Score'].head()"
      ]
    },
    {
      "cell_type": "code",
      "execution_count": null,
      "metadata": {
        "id": "71KWIhPCly-S"
      },
      "outputs": [],
      "source": [
        "#cleaning the data\n",
        "food = food.rename(columns={'LSOA or DZ':'LSOA'})\n",
        "food.drop(labels=34753, axis=0)"
      ]
    },
    {
      "cell_type": "code",
      "execution_count": null,
      "metadata": {
        "id": "yKWqvZqleRcx"
      },
      "outputs": [],
      "source": [
        "food = food[food.Nation != 'Wales']\n",
        "food.drop('Rank', axis=1, inplace=True)\n",
        "food.drop('Nation', axis=1, inplace=True)\n",
        "food.drop('Decile', axis=1, inplace=True)"
      ]
    },
    {
      "cell_type": "markdown",
      "metadata": {
        "id": "hmYByjrVe7FB"
      },
      "source": [
        "##Converting the Lsoas 2011 to LTLA 2020 \n",
        "\n",
        "File found at : https://geoportal.statistics.gov.uk/datasets/lower-layer-super-output-area-2011-to-upper-tier-local-authorities-2021-lookup-in-england-and-wales-/explore\n",
        "\n"
      ]
    },
    {
      "cell_type": "code",
      "execution_count": null,
      "metadata": {
        "id": "gKwDthalfIVX"
      },
      "outputs": [],
      "source": [
        "#importing file\n",
        "data_path = \"/content/drive/MyDrive/UCL BASc/Year 2/BASC0005/QM data/first map/loastoward.csv\"\n",
        "convert = pd.read_csv(data_path, encoding = 'latin1')\n",
        "convert.head()"
      ]
    },
    {
      "cell_type": "code",
      "execution_count": null,
      "metadata": {
        "id": "CK2jS2l3fTsb"
      },
      "outputs": [],
      "source": [
        "# cleaning dataset by removing unecessary columns\n",
        "convert.drop('LSOA11NM', axis=1, inplace=True)\n",
        "convert.drop('LAD20NM', axis=1, inplace=True)\n",
        "convert.drop('WD20CD', axis=1, inplace=True)\n",
        "convert.drop('WD20NM', axis=1, inplace=True)\n",
        "convert.drop('ï»¿FID', axis=1, inplace=True)"
      ]
    },
    {
      "cell_type": "code",
      "execution_count": null,
      "metadata": {
        "id": "jVgwC0iRfkRW"
      },
      "outputs": [],
      "source": [
        "convert = convert.rename(columns={'LSOA11CD':'LSOA'})"
      ]
    },
    {
      "cell_type": "markdown",
      "source": [
        "##Merging our datasets to create geofood"
      ],
      "metadata": {
        "id": "iIkRgE-MaVS9"
      }
    },
    {
      "cell_type": "code",
      "execution_count": null,
      "metadata": {
        "id": "SsIgZC3Hfo04"
      },
      "outputs": [],
      "source": [
        "merge1= convert.merge(food,right_on='LSOA',left_on='LSOA')\n",
        "merge1.tail()"
      ]
    },
    {
      "cell_type": "code",
      "execution_count": null,
      "metadata": {
        "id": "5gvUQsGKhaLo"
      },
      "outputs": [],
      "source": [
        "merge1.drop(columns=[\"LSOA\"],inplace=True)"
      ]
    },
    {
      "cell_type": "code",
      "execution_count": null,
      "metadata": {
        "id": "hvq3fS3k8vjW"
      },
      "outputs": [],
      "source": [
        "df = pd.DataFrame(merge1, columns = ['LAD20CD', 'Score'])\n",
        "df"
      ]
    },
    {
      "cell_type": "code",
      "execution_count": null,
      "metadata": {
        "id": "IC57pCbGAgnf"
      },
      "outputs": [],
      "source": [
        "#visualiasing how many datapoints need to be removed \n",
        "new_val = df[df.duplicated('LAD20CD')]\n",
        "print(new_val)"
      ]
    },
    {
      "cell_type": "code",
      "execution_count": null,
      "metadata": {
        "id": "fkc7OKZXGFpv"
      },
      "outputs": [],
      "source": [
        "#suming the column 'Score' with the mean function for each local authroity\n",
        "\n",
        "mean1 = df.groupby('LAD20CD').mean({'Score':'first'}).reset_index()\n",
        "mean1"
      ]
    },
    {
      "cell_type": "code",
      "source": [
        "#rounding our dataset to 3 significant figures\n",
        "mean1['Score']=mean1['Score'].round(decimals=3)\n",
        "mean1['Score'].head()"
      ],
      "metadata": {
        "id": "sENXc4yq32Zh"
      },
      "execution_count": null,
      "outputs": []
    },
    {
      "cell_type": "code",
      "execution_count": null,
      "metadata": {
        "id": "LV_vBV6UuCe5"
      },
      "outputs": [],
      "source": [
        "geofood = UK_LTLAs.merge(mean1,right_on='LAD20CD',left_on='LAD20CD')"
      ]
    },
    {
      "cell_type": "code",
      "execution_count": null,
      "metadata": {
        "id": "13SdGSde_NxG"
      },
      "outputs": [],
      "source": [
        "geofood"
      ]
    },
    {
      "cell_type": "code",
      "execution_count": null,
      "metadata": {
        "id": "6R7zpQgHvTcq"
      },
      "outputs": [],
      "source": [
        "#checking if NUll values are in the dataset \n",
        "geofood.isnull().any()"
      ]
    },
    {
      "cell_type": "code",
      "execution_count": null,
      "metadata": {
        "id": "Kb-gBBvnly-V"
      },
      "outputs": [],
      "source": [
        "type(geofood)"
      ]
    },
    {
      "cell_type": "markdown",
      "metadata": {
        "id": "Qk5hHDJPlJ-F"
      },
      "source": [
        "### 2 different scales for mapping "
      ]
    },
    {
      "cell_type": "code",
      "source": [
        "#projection of our dataset geofood\n",
        "geofood.crs = 'epsg:27700'\n",
        "target_crs = {'datum':'OSGB36', 'no_defs':True, 'proj':'merc'}\n",
        "projected_geofood= geofood.to_crs(crs=target_crs)"
      ],
      "metadata": {
        "id": "FRfrCqTlbA-M"
      },
      "execution_count": null,
      "outputs": []
    },
    {
      "cell_type": "code",
      "execution_count": null,
      "metadata": {
        "id": "k5jHN5zhYLds"
      },
      "outputs": [],
      "source": [
        "#plotting the map with matplolib\n",
        "import matplotlib.pyplot as plt\n",
        "projected_geofood.plot(column='Score',cmap='Blues',legend=True, scheme='fisher_jenks', alpha = 0.5,linewidth=0.8, edgecolor='k')\n",
        "\n",
        "plt.title('Figure 1- Map representing the distribution of E-food Desert Index (EFDI) across England in 2020 '"
      ]
    },
    {
      "cell_type": "code",
      "source": [
        "Sources : https://jakevdp.github.io/PythonDataScienceHandbook/04.06-customizing-legends.html"
      ],
      "metadata": {
        "id": "e15OWFI1do0d"
      },
      "execution_count": null,
      "outputs": []
    }
  ],
  "metadata": {
    "accelerator": "TPU",
    "colab": {
      "collapsed_sections": [],
      "name": "Figure 1 - Choropleth Map - New",
      "provenance": [],
      "include_colab_link": true
    },
    "kernelspec": {
      "display_name": "Python 3",
      "language": "python",
      "name": "python3"
    },
    "language_info": {
      "codemirror_mode": {
        "name": "ipython",
        "version": 3
      },
      "file_extension": ".py",
      "mimetype": "text/x-python",
      "name": "python",
      "nbconvert_exporter": "python",
      "pygments_lexer": "ipython3",
      "version": "3.7.4"
    }
  },
  "nbformat": 4,
  "nbformat_minor": 0
}